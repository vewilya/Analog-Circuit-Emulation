{
 "cells": [
  {
   "cell_type": "code",
   "execution_count": 1,
   "metadata": {},
   "outputs": [
    {
     "data": {
      "text/plain": [
       "diodeclipper (generic function with 3 methods)"
      ]
     },
     "metadata": {},
     "output_type": "display_data"
    }
   ],
   "source": [
    "using WAV\n",
    "using ACME\n",
    "\n",
    "fs = 44100\n",
    "\n",
    "#  DIODE CLIPPER CIRCUIT MODEL\n",
    "function diodeclipper(::Type{Circuit})\n",
    "     @circuit begin\n",
    "         j_in = voltagesource(), [-] ⟷ gnd\n",
    "         r1 = resistor(1e3), [1] ⟷ j_in[+]\n",
    "         c1 = capacitor(47e-9), [1] ⟷ r1[2], [2] ⟷ gnd\n",
    "         d1 = diode(is=1e-15), [-] ⟷ gnd, [+] ⟷ r1[2]\n",
    "         d2 = diode(is=1.8e-15), [-] ⟷ r1[2], [+] ⟷ gnd\n",
    "         j_out = voltageprobe(), [-] ⟷ gnd, [+] ⟷ r1[2]\n",
    "     end\n",
    " end\n",
    " \n",
    " diodeclipper(::Type{DiscreteModel}=DiscreteModel; fs=44100, solver=nothing) =\n",
    "     solver === nothing ?\n",
    "         DiscreteModel(diodeclipper(Circuit), 1//fs) :\n",
    "         DiscreteModel(diodeclipper(Circuit), 1//fs, solver)"
   ]
  },
  {
   "cell_type": "code",
   "execution_count": 2,
   "metadata": {},
   "outputs": [
    {
     "data": {
      "text/plain": [
       "sallenkey (generic function with 3 methods)"
      ]
     },
     "metadata": {},
     "output_type": "display_data"
    }
   ],
   "source": [
    "#  SALLEN KEY 2ND ORDER LP FILTER MDODEL\n",
    "function sallenkey(::Type{Circuit})\n",
    "     @circuit begin\n",
    "         j_in = voltagesource(), [-] ⟷ gnd\n",
    "         r1 = resistor(10e3), [1] ⟷ j_in[+]\n",
    "         r2 = resistor(10e3), [1] ⟷ r1[2]\n",
    "         c1 = capacitor(10e-9), [1] ⟷ r1[2]\n",
    "         u1 = opamp(), [\"in+\"] ⟷ r2[2], [\"in-\"] ⟷ [\"out+\"] ⟷ c1[2], [\"out-\"] ⟷ gnd\n",
    "         #u1 = opamp(Val{:macak}, 1000, -4, 4)\n",
    "         c2 = capacitor(10e-9), [1] ⟷ u1[\"in+\"], [2] ⟷ gnd\n",
    "         j_out = voltageprobe(), [-] ⟷ gnd, [+] ⟷ u1[\"out+\"]\n",
    "     end\n",
    " end\n",
    " \n",
    " sallenkey(::Type{DiscreteModel}=DiscreteModel; fs=44100, solver=nothing) =\n",
    "     solver === nothing ?\n",
    "         DiscreteModel(sallenkey(Circuit), 1//fs) :\n",
    "         DiscreteModel(sallenkey(Circuit), 1//fs, solver)"
   ]
  },
  {
   "attachments": {},
   "cell_type": "markdown",
   "metadata": {},
   "source": [
    "We can calculate the precise cutoff frequency by using the formula 1 / (2 * pi * sqrt(r1 * r2 * c1 * c2))\n",
    "\n",
    "So for our case this means:\n",
    "\n",
    "Cutoff Frequency = 1 / (2 * pi * sqrt(10e3 * 10e3 * 10e-9 * 10e-9)) = 1591.55 (hz)"
   ]
  },
  {
   "attachments": {},
   "cell_type": "markdown",
   "metadata": {},
   "source": [
    "Select either the filter model or the diode model."
   ]
  },
  {
   "cell_type": "code",
   "execution_count": 3,
   "metadata": {},
   "outputs": [],
   "source": [
    "diodeModel = diodeclipper(fs=round(Int,fs))\n",
    "filterModel = sallenkey(fs=round(Int,fs))\n",
    "\n",
    "# Choose which model you want to use for processing the audio\n",
    "selectedModel = filterModel \n",
    "\n",
    "# Choose an audio file, which you place in the repo directory and replace AudioFile.wav with the correct name.\n",
    "\n",
    "data_in, fs, _ = wavread(\"AudioFile.wav\")\n",
    "\n",
    "u = 7 * transpose(data_in[:, 1])\n",
    "y = run!(selectedModel, u)\n",
    "\n",
    "data_out = 0.1*transpose(y)\n",
    "wavplay(data_out, fs)"
   ]
  },
  {
   "attachments": {},
   "cell_type": "markdown",
   "metadata": {},
   "source": [
    "This section will just print out a processed mono audio file."
   ]
  },
  {
   "cell_type": "code",
   "execution_count": 5,
   "metadata": {},
   "outputs": [],
   "source": [
    "if selectedModel == model\n",
    "    wavwrite(data_out, \"Output_diode.wav\", Fs=fs)\n",
    "    data_out, fs = wavread(\"Output_diode.wav\")\n",
    "    wavappend(data_out, \"Output_diode.wav\")\n",
    "elseif selectedModel == model2\n",
    "    wavwrite(data_out, \"Output_filtered.wav\", Fs=fs)\n",
    "    data_out, fs = wavread(\"Output_filtered.wav\")\n",
    "    wavappend(data_out, \"Output_filtered.wav\")\n",
    "end"
   ]
  }
 ],
 "metadata": {
  "kernelspec": {
   "display_name": "Julia 1.8.5",
   "language": "julia",
   "name": "julia-1.8"
  },
  "language_info": {
   "file_extension": ".jl",
   "mimetype": "application/julia",
   "name": "julia",
   "version": "1.8.5"
  },
  "orig_nbformat": 4
 },
 "nbformat": 4,
 "nbformat_minor": 2
}
